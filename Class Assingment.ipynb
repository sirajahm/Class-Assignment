{
 "cells": [
  {
   "cell_type": "markdown",
   "id": "5a733018",
   "metadata": {},
   "source": [
    "#### A company decided to give bonus of 5% to employee if his/her year of service is more than 5 years. Ask user for their salary and year of service and print the net bonus amount\n"
   ]
  },
  {
   "cell_type": "code",
   "execution_count": 1,
   "id": "467ca636",
   "metadata": {},
   "outputs": [
    {
     "name": "stdout",
     "output_type": "stream",
     "text": [
      "Enter your salary: 1500\n",
      "Enter your years of service: 3\n",
      "Sorry, you are not eligible for a bonus.\n"
     ]
    }
   ],
   "source": [
    "salary = float(input(\"Enter your salary: \"))\n",
    "years_of_service = int(input(\"Enter your years of service: \"))\n",
    "if years_of_service > 5:\n",
    "    bonus_percentage = 5\n",
    "    bonus_amount = (bonus_percentage / 100) * salary\n",
    "    print(f\"Congratulations! You are eligible for a {bonus_percentage}% bonus.\")\n",
    "    print(f\"Net Bonus Amount: ${bonus_amount:.2f}\")\n",
    "else:\n",
    "    print(\"Sorry, you are not eligible for a bonus.\")"
   ]
  },
  {
   "cell_type": "code",
   "execution_count": 2,
   "id": "c335cf9a",
   "metadata": {},
   "outputs": [
    {
     "name": "stdout",
     "output_type": "stream",
     "text": [
      "Enter your salary: 50000\n",
      "Enter your years of service: 8\n",
      "Congratulations! You are eligible for a 5% bonus.\n",
      "Net Bonus Amount: $2500.00\n"
     ]
    }
   ],
   "source": [
    "salary = float(input(\"Enter your salary: \"))\n",
    "years_of_service = int(input(\"Enter your years of service: \"))\n",
    "if years_of_service > 5:\n",
    "    bonus_percentage = 5\n",
    "    bonus_amount = (bonus_percentage / 100) * salary\n",
    "    print(f\"Congratulations! You are eligible for a {bonus_percentage}% bonus.\")\n",
    "    print(f\"Net Bonus Amount: ${bonus_amount:.2f}\")\n",
    "else:\n",
    "    print(\"Sorry, you are not eligible for a bonus.\")"
   ]
  },
  {
   "cell_type": "markdown",
   "id": "256fcf49",
   "metadata": {},
   "source": [
    "#### Write a program to check whether a person is eligible for voting or not. (accept age from user) if age is greater than 17 eligible otherwise not eligible\n"
   ]
  },
  {
   "cell_type": "code",
   "execution_count": 3,
   "id": "ab2be500",
   "metadata": {},
   "outputs": [
    {
     "name": "stdout",
     "output_type": "stream",
     "text": [
      "Enter your age: 15\n",
      "Sorry, you are not eligible for voting.\n"
     ]
    }
   ],
   "source": [
    "age = int(input(\"Enter your age: \"))\n",
    "if age > 17:\n",
    "    print(\"Congratulations! You are eligible for voting.\")\n",
    "else:\n",
    "    print(\"Sorry, you are not eligible for voting.\")"
   ]
  },
  {
   "cell_type": "code",
   "execution_count": 4,
   "id": "dd39d650",
   "metadata": {},
   "outputs": [
    {
     "name": "stdout",
     "output_type": "stream",
     "text": [
      "Enter your age: 25\n",
      "Congratulations! You are eligible for voting.\n"
     ]
    }
   ],
   "source": [
    "age = int(input(\"Enter your age: \"))\n",
    "if age > 17:\n",
    "    print(\"Congratulations! You are eligible for voting.\")\n",
    "else:\n",
    "    print(\"Sorry, you are not eligible for voting.\")"
   ]
  },
  {
   "cell_type": "markdown",
   "id": "01eb7b8a",
   "metadata": {},
   "source": [
    "####  Write a program to check whether a number entered by user is even or odd."
   ]
  },
  {
   "cell_type": "code",
   "execution_count": 5,
   "id": "f0a51f5b",
   "metadata": {},
   "outputs": [
    {
     "name": "stdout",
     "output_type": "stream",
     "text": [
      "Enter a number: 15\n",
      "15 is an odd number.\n"
     ]
    }
   ],
   "source": [
    "number = int(input(\"Enter a number: \"))\n",
    "if number % 2 == 0:\n",
    "    print(f\"{number} is an even number.\")\n",
    "else:\n",
    "    print(f\"{number} is an odd number.\")"
   ]
  },
  {
   "cell_type": "code",
   "execution_count": 6,
   "id": "ab614d39",
   "metadata": {},
   "outputs": [
    {
     "name": "stdout",
     "output_type": "stream",
     "text": [
      "Enter a number: 10\n",
      "10 is an even number.\n"
     ]
    }
   ],
   "source": [
    "number = int(input(\"Enter a number: \"))\n",
    "if number % 2 == 0:\n",
    "    print(f\"{number} is an even number.\")\n",
    "else:\n",
    "    print(f\"{number} is an odd number.\")"
   ]
  },
  {
   "cell_type": "markdown",
   "id": "e84c08f6",
   "metadata": {},
   "source": [
    "#### Write a program to check whether a number is divisible by 7 or not. Show Answer"
   ]
  },
  {
   "cell_type": "code",
   "execution_count": 7,
   "id": "b336620f",
   "metadata": {},
   "outputs": [
    {
     "name": "stdout",
     "output_type": "stream",
     "text": [
      "Enter a number: 39\n",
      "39 is not divisible by 5.\n"
     ]
    }
   ],
   "source": [
    "number = int(input(\"Enter a number: \"))\n",
    "if number % 5 == 0:\n",
    "    print(f\"{number} is divisible by 5.\")\n",
    "else:\n",
    "    print(f\"{number} is not divisible by 5.\")"
   ]
  },
  {
   "cell_type": "code",
   "execution_count": 8,
   "id": "05ce8507",
   "metadata": {},
   "outputs": [
    {
     "name": "stdout",
     "output_type": "stream",
     "text": [
      "Enter a number: 25\n",
      "25 is divisible by 5.\n"
     ]
    }
   ],
   "source": [
    "number = int(input(\"Enter a number: \"))\n",
    "if number % 5 == 0:\n",
    "    print(f\"{number} is divisible by 5.\")\n",
    "else:\n",
    "    print(f\"{number} is not divisible by 5.\")"
   ]
  },
  {
   "cell_type": "markdown",
   "id": "30c7f8cf",
   "metadata": {},
   "source": [
    "#### Write a program to display \"Hello\" if a number entered by user is a multiple of five , otherwise print \"Bye\""
   ]
  },
  {
   "cell_type": "code",
   "execution_count": 9,
   "id": "ce5e61db",
   "metadata": {},
   "outputs": [
    {
     "name": "stdout",
     "output_type": "stream",
     "text": [
      "Enter a number: 3\n",
      "Bye\n"
     ]
    }
   ],
   "source": [
    "number = int(input(\"Enter a number: \"))\n",
    "if number % 5 == 0:\n",
    "    print(\"Hello\")\n",
    "else:\n",
    "    print(\"Bye\")"
   ]
  },
  {
   "cell_type": "code",
   "execution_count": 10,
   "id": "b6594c79",
   "metadata": {},
   "outputs": [
    {
     "name": "stdout",
     "output_type": "stream",
     "text": [
      "Enter a number: 25\n",
      "Hello\n"
     ]
    }
   ],
   "source": [
    "number = int(input(\"Enter a number: \"))\n",
    "if number % 5 == 0:\n",
    "    print(\"Hello\")\n",
    "else:\n",
    "    print(\"Bye\")"
   ]
  },
  {
   "cell_type": "markdown",
   "id": "77bf330e",
   "metadata": {},
   "source": [
    "#### Write a program to display the last digit of a number"
   ]
  },
  {
   "cell_type": "code",
   "execution_count": 11,
   "id": "29067a58",
   "metadata": {},
   "outputs": [
    {
     "name": "stdout",
     "output_type": "stream",
     "text": [
      "Enter a number: 10805\n",
      "The last digit of 10805 is: 5\n"
     ]
    }
   ],
   "source": [
    "number = int(input(\"Enter a number: \"))\n",
    "last_digit = number % 10\n",
    "print(f\"The last digit of {number} is: {last_digit}\")"
   ]
  },
  {
   "cell_type": "markdown",
   "id": "b07d0a39",
   "metadata": {},
   "source": [
    "#### Write a program to check whether the last digit of a number( entered by user ) is divisible by 3 or not"
   ]
  },
  {
   "cell_type": "code",
   "execution_count": 12,
   "id": "960c96d9",
   "metadata": {},
   "outputs": [
    {
     "name": "stdout",
     "output_type": "stream",
     "text": [
      "Enter a number: 5\n",
      "The last digit (5) is not divisible by 3.\n"
     ]
    }
   ],
   "source": [
    "number = int(input(\"Enter a number: \"))\n",
    "last_digit = number % 10\n",
    "if last_digit % 3 == 0:\n",
    "    print(f\"The last digit ({last_digit}) is divisible by 3.\")\n",
    "else:\n",
    "    print(f\"The last digit ({last_digit}) is not divisible by 3.\")"
   ]
  },
  {
   "cell_type": "code",
   "execution_count": 13,
   "id": "d125883d",
   "metadata": {},
   "outputs": [
    {
     "name": "stdout",
     "output_type": "stream",
     "text": [
      "Enter a number: 9\n",
      "The last digit (9) is divisible by 3.\n"
     ]
    }
   ],
   "source": [
    "number = int(input(\"Enter a number: \"))\n",
    "last_digit = number % 10\n",
    "if last_digit % 3 == 0:\n",
    "    print(f\"The last digit ({last_digit}) is divisible by 3.\")\n",
    "else:\n",
    "    print(f\"The last digit ({last_digit}) is not divisible by 3.\")"
   ]
  },
  {
   "cell_type": "markdown",
   "id": "9370d96f",
   "metadata": {},
   "source": [
    "#### Take values of length and breadth of a rectangle from user and print if it is square or rectangle."
   ]
  },
  {
   "cell_type": "code",
   "execution_count": 15,
   "id": "a52f9f2c",
   "metadata": {},
   "outputs": [
    {
     "name": "stdout",
     "output_type": "stream",
     "text": [
      "Enter the length of the rectangle: 15\n",
      "Enter the breadth of the rectangle: 5\n",
      "It is a rectangle.\n"
     ]
    }
   ],
   "source": [
    "length = float(input(\"Enter the length of the rectangle: \"))\n",
    "breadth = float(input(\"Enter the breadth of the rectangle: \"))\n",
    "if length == breadth:\n",
    "    print(\"It is a square.\")\n",
    "else:\n",
    "    print(\"It is a rectangle.\")"
   ]
  },
  {
   "cell_type": "code",
   "execution_count": 16,
   "id": "5b705375",
   "metadata": {},
   "outputs": [
    {
     "name": "stdout",
     "output_type": "stream",
     "text": [
      "Enter the length of the rectangle: 10\n",
      "Enter the breadth of the rectangle: 10\n",
      "It is a square.\n"
     ]
    }
   ],
   "source": [
    "length = float(input(\"Enter the length of the rectangle: \"))\n",
    "breadth = float(input(\"Enter the breadth of the rectangle: \"))\n",
    "if length == breadth:\n",
    "    print(\"It is a square.\")\n",
    "else:\n",
    "    print(\"It is a rectangle.\")"
   ]
  },
  {
   "cell_type": "markdown",
   "id": "31ce2a4d",
   "metadata": {},
   "source": [
    "#### Take two int values from user and print greatest among them"
   ]
  },
  {
   "cell_type": "code",
   "execution_count": 19,
   "id": "b85f8776",
   "metadata": {},
   "outputs": [
    {
     "name": "stdout",
     "output_type": "stream",
     "text": [
      "Enter the first integer: 10\n",
      "Enter the second integer: 12\n",
      "The greatest number is: 12\n"
     ]
    }
   ],
   "source": [
    "num1 = int(input(\"Enter the first integer: \"))\n",
    "num2 = int(input(\"Enter the second integer: \"))\n",
    "if num1 > num2:\n",
    "    print(f\"The greatest number is: {num1}\")\n",
    "elif num2 > num1:\n",
    "    print(f\"The greatest number is: {num2}\")\n",
    "else:\n",
    "    print(\"Both numbers are equal.\")"
   ]
  },
  {
   "cell_type": "code",
   "execution_count": 20,
   "id": "f7a6b4a7",
   "metadata": {},
   "outputs": [
    {
     "name": "stdout",
     "output_type": "stream",
     "text": [
      "Enter the first integer: 50\n",
      "Enter the second integer: 12\n",
      "The greatest number is: 50\n"
     ]
    }
   ],
   "source": [
    "num1 = int(input(\"Enter the first integer: \"))\n",
    "num2 = int(input(\"Enter the second integer: \"))\n",
    "if num1 > num2:\n",
    "    print(f\"The greatest number is: {num1}\")\n",
    "elif num2 > num1:\n",
    "    print(f\"The greatest number is: {num2}\")\n",
    "else:\n",
    "    print(\"Both numbers are equal.\")"
   ]
  },
  {
   "cell_type": "markdown",
   "id": "5c70c1fa",
   "metadata": {},
   "source": [
    "#### A shop will give discount of 10% if the cost of purchased quantity is more than 1000. Ask user for quantity Suppose, one unit will cost 100. Judge and print total cost for user\n"
   ]
  },
  {
   "cell_type": "code",
   "execution_count": 21,
   "id": "a1946de9",
   "metadata": {},
   "outputs": [
    {
     "name": "stdout",
     "output_type": "stream",
     "text": [
      "Enter the quantity of units purchased: 50000\n",
      "Congratulations! You get a 10% discount.\n",
      "Total cost after discount: $4500000.00\n"
     ]
    }
   ],
   "source": [
    "cost_per_unit = 100\n",
    "quantity = int(input(\"Enter the quantity of units purchased: \"))\n",
    "total_cost = quantity * cost_per_unit\n",
    "if total_cost > 1000:\n",
    "    discount = 0.10 * total_cost\n",
    "    total_cost -= discount\n",
    "    print(f\"Congratulations! You get a 10% discount.\")\n",
    "    print(f\"Total cost after discount: ${total_cost:.2f}\")\n",
    "else:\n",
    "    print(f\"Total cost: ${total_cost:.2f}\")"
   ]
  },
  {
   "cell_type": "code",
   "execution_count": 23,
   "id": "0353e6b9",
   "metadata": {},
   "outputs": [
    {
     "name": "stdout",
     "output_type": "stream",
     "text": [
      "Enter the quantity of units purchased: 1\n",
      "Total cost: $100.00\n"
     ]
    }
   ],
   "source": [
    "cost_per_unit = 100\n",
    "quantity = int(input(\"Enter the quantity of units purchased: \"))\n",
    "total_cost = quantity * cost_per_unit\n",
    "if total_cost > 1000:\n",
    "    discount = 0.10 * total_cost\n",
    "    total_cost -= discount\n",
    "    print(f\"Congratulations! You get a 10% discount.\")\n",
    "    print(f\"Total cost after discount: ${total_cost:.2f}\")\n",
    "else:\n",
    "    print(f\"Total cost: ${total_cost:.2f}\")"
   ]
  },
  {
   "cell_type": "markdown",
   "id": "f2af827c",
   "metadata": {},
   "source": [
    "#### A school has following rules for grading system\n",
    "###### a. Below 25 - F\n",
    "###### b. 25 to 45 - E\n",
    "###### c. 45 to 50 - D\n",
    "###### d. 50 to 60 - C\n",
    "###### e. 60 to 80 - B\n",
    "###### f. Above 80 - A\n",
    "Ask user to enter marks and print the corresponding grade"
   ]
  },
  {
   "cell_type": "code",
   "execution_count": 25,
   "id": "6f65254b",
   "metadata": {},
   "outputs": [
    {
     "name": "stdout",
     "output_type": "stream",
     "text": [
      "Enter the marks: 85\n",
      "Your grade is: A\n"
     ]
    }
   ],
   "source": [
    "marks = float(input(\"Enter the marks: \"))\n",
    "if marks < 25:\n",
    "    grade = \"F\"\n",
    "elif marks >= 25 and marks < 45:\n",
    "    grade = \"E\"\n",
    "elif marks >= 45 and marks < 50:\n",
    "    grade = \"D\"\n",
    "elif marks >= 50 and marks < 60:\n",
    "    grade = \"C\"\n",
    "elif marks >= 60 and marks < 80:\n",
    "    grade = \"B\"\n",
    "else:\n",
    "    grade = \"A\"\n",
    "    print(f\"Your grade is: {grade}\")"
   ]
  },
  {
   "cell_type": "code",
   "execution_count": 44,
   "id": "c466c63a",
   "metadata": {},
   "outputs": [
    {
     "name": "stdout",
     "output_type": "stream",
     "text": [
      "Enter the marks: 65\n",
      "Your grade is: B\n"
     ]
    }
   ],
   "source": [
    "marks = float(input(\"Enter the marks: \"))\n",
    "if marks < 25:\n",
    "    grade = \"F\"\n",
    "elif 25 <= marks < 45:\n",
    "    grade = \"E\"\n",
    "elif 45 <= marks < 50:\n",
    "    grade = \"D\"\n",
    "elif 50 <= marks < 60:\n",
    "    grade = \"C\"\n",
    "elif 60 <= marks < 80:\n",
    "    grade = \"B\"\n",
    "else:\n",
    "    grade = \"A\"\n",
    "\n",
    "print(f\"Your grade is: {grade}\")"
   ]
  },
  {
   "cell_type": "markdown",
   "id": "1bbcf7df",
   "metadata": {},
   "source": [
    "#### A student will not be allowed to sit in exam if his/her attendence is less than 75%.\n",
    "**Take following input from user**\n",
    "\n",
    "**Number of classes held**\n",
    "\n",
    "**Number of classes attended.\n",
    "And print**\n",
    "\n",
    "**percentage of class attended**\n",
    "\n",
    "**Is student is allowed to sit in exam or not.**\n"
   ]
  },
  {
   "cell_type": "code",
   "execution_count": 27,
   "id": "27b5fcd0",
   "metadata": {},
   "outputs": [
    {
     "name": "stdout",
     "output_type": "stream",
     "text": [
      "Enter the number of classes held: 100\n",
      "Enter the number of classes attended: 93\n",
      "Percentage of classes attended: 93.00%\n",
      "You are allowed to sit in the exam.\n"
     ]
    }
   ],
   "source": [
    "classes_held = int(input(\"Enter the number of classes held: \"))\n",
    "classes_attended = int(input(\"Enter the number of classes attended: \"))\n",
    "attendance_percentage = (classes_attended / classes_held) * 100\n",
    "if attendance_percentage >= 75:\n",
    "    print(f\"Percentage of classes attended: {attendance_percentage:.2f}%\")\n",
    "    print(\"You are allowed to sit in the exam.\")\n",
    "else:\n",
    "    print(f\"Percentage of classes attended: {attendance_percentage:.2f}%\")\n",
    "    print(\"Sorry, you are not allowed to sit in the exam due to low attendance.\")"
   ]
  },
  {
   "cell_type": "code",
   "execution_count": 28,
   "id": "9e01ffb9",
   "metadata": {},
   "outputs": [
    {
     "name": "stdout",
     "output_type": "stream",
     "text": [
      "Enter the number of classes held: 100\n",
      "Enter the number of classes attended: 25\n",
      "Percentage of classes attended: 25.00%\n",
      "Sorry, you are not allowed to sit in the exam due to low attendance.\n"
     ]
    }
   ],
   "source": [
    "classes_held = int(input(\"Enter the number of classes held: \"))\n",
    "classes_attended = int(input(\"Enter the number of classes attended: \"))\n",
    "attendance_percentage = (classes_attended / classes_held) * 100\n",
    "if attendance_percentage >= 75:\n",
    "    print(f\"Percentage of classes attended: {attendance_percentage:.2f}%\")\n",
    "    print(\"You are allowed to sit in the exam.\")\n",
    "else:\n",
    "    print(f\"Percentage of classes attended: {attendance_percentage:.2f}%\")\n",
    "    print(\"Sorry, you are not allowed to sit in the exam due to low attendance.\")"
   ]
  },
  {
   "cell_type": "markdown",
   "id": "a8c4b9e9",
   "metadata": {},
   "source": [
    "#### Modify the above question to allow student to sit if he/she has medical cause. Ask user if he/she has medical cause or not ( 'Y' or 'N' ) and print accordingly\n"
   ]
  },
  {
   "cell_type": "code",
   "execution_count": 42,
   "id": "07ad73b5",
   "metadata": {},
   "outputs": [
    {
     "name": "stdout",
     "output_type": "stream",
     "text": [
      "Enter the number of classes held: 50\n",
      "Enter the number of classes attended: 50\n",
      "Do you have a medical cause? (Y/N): N\n",
      "Percentage of classes attended: 100.00%\n",
      "You are allowed to sit in the exam.\n"
     ]
    }
   ],
   "source": [
    "classes_held = int(input(\"Enter the number of classes held: \"))\n",
    "classes_attended = int(input(\"Enter the number of classes attended: \"))\n",
    "attendance_percentage = (classes_attended / classes_held) * 100\n",
    "medical_cause = input(\"Do you have a medical cause? (Y/N): \")\n",
    "\n",
    "if attendance_percentage >= 75 or medical_cause.upper() == 'Y':\n",
    "    print(f\"Percentage of classes attended: {attendance_percentage:.2f}%\")\n",
    "    print(\"You are allowed to sit in the exam.\")\n",
    "else:\n",
    "    print(f\"Percentage of classes attended: {attendance_percentage:.2f}%\")\n",
    "    print(\"Sorry, you are not allowed to sit in the exam due to low attendance.\")"
   ]
  },
  {
   "cell_type": "code",
   "execution_count": 43,
   "id": "f99689d1",
   "metadata": {},
   "outputs": [
    {
     "name": "stdout",
     "output_type": "stream",
     "text": [
      "Enter the number of classes held: 50\n",
      "Enter the number of classes attended: 13\n",
      "Do you have a medical cause? (Y/N): N\n",
      "Percentage of classes attended: 26.00%\n",
      "Sorry, you are not allowed to sit in the exam due to low attendance.\n"
     ]
    }
   ],
   "source": [
    "classes_held = int(input(\"Enter the number of classes held: \"))\n",
    "classes_attended = int(input(\"Enter the number of classes attended: \"))\n",
    "attendance_percentage = (classes_attended / classes_held) * 100\n",
    "medical_cause = input(\"Do you have a medical cause? (Y/N): \")\n",
    "\n",
    "if attendance_percentage >= 75 or medical_cause.upper() == 'Y':\n",
    "    print(f\"Percentage of classes attended: {attendance_percentage:.2f}%\")\n",
    "    print(\"You are allowed to sit in the exam.\")\n",
    "else:\n",
    "    print(f\"Percentage of classes attended: {attendance_percentage:.2f}%\")\n",
    "    print(\"Sorry, you are not allowed to sit in the exam due to low attendance.\")"
   ]
  },
  {
   "cell_type": "markdown",
   "id": "d1509f5c",
   "metadata": {},
   "source": [
    "#### Write a program to check if a year is leap year or not.\n",
    "**If a year is divisible by 4 then it is leap year but if the year is century year like 2000, 1900, 2100 then it must be divisible by 400** "
   ]
  },
  {
   "cell_type": "code",
   "execution_count": 31,
   "id": "6ae59e03",
   "metadata": {},
   "outputs": [
    {
     "name": "stdout",
     "output_type": "stream",
     "text": [
      "Enter a year: 9\n",
      "9 is not a leap year.\n"
     ]
    }
   ],
   "source": [
    "year = int(input(\"Enter a year: \"))\n",
    "if (year % 4 == 0 and year % 100 != 0) or (year % 400 == 0):\n",
    "    print(f\"{year} is a leap year.\")\n",
    "else:\n",
    "    print(f\"{year} is not a leap year.\")"
   ]
  },
  {
   "cell_type": "code",
   "execution_count": 32,
   "id": "ab4c85d7",
   "metadata": {},
   "outputs": [
    {
     "name": "stdout",
     "output_type": "stream",
     "text": [
      "Enter a year: 12\n",
      "12 is a leap year.\n"
     ]
    }
   ],
   "source": [
    "year = int(input(\"Enter a year: \"))\n",
    "if (year % 4 == 0 and year % 100 != 0) or (year % 400 == 0):\n",
    "    print(f\"{year} is a leap year.\")\n",
    "else:\n",
    "    print(f\"{year} is not a leap year.\")"
   ]
  },
  {
   "cell_type": "code",
   "execution_count": 33,
   "id": "1a26a31f",
   "metadata": {},
   "outputs": [
    {
     "name": "stdout",
     "output_type": "stream",
     "text": [
      "Enter a year: 1800\n",
      "1800 is not a leap year.\n"
     ]
    }
   ],
   "source": [
    "year = int(input(\"Enter a year: \"))\n",
    "if (year % 4 == 0 and year % 100 != 0) or (year % 400 == 0):\n",
    "    print(f\"{year} is a leap year.\")\n",
    "else:\n",
    "    print(f\"{year} is not a leap year.\")"
   ]
  },
  {
   "cell_type": "code",
   "execution_count": 34,
   "id": "7740d341",
   "metadata": {},
   "outputs": [
    {
     "name": "stdout",
     "output_type": "stream",
     "text": [
      "Enter a year: 800\n",
      "800 is a leap year.\n"
     ]
    }
   ],
   "source": [
    "year = int(input(\"Enter a year: \"))\n",
    "if (year % 4 == 0 and year % 100 != 0) or (year % 400 == 0):\n",
    "    print(f\"{year} is a leap year.\")\n",
    "else:\n",
    "    print(f\"{year} is not a leap year.\")"
   ]
  },
  {
   "cell_type": "markdown",
   "id": "df143df8",
   "metadata": {},
   "source": [
    "#### Ask user to enter age, gender ( M or F ), marital status ( Y or N ) and then using following rules print their place of service.\n",
    "\n",
    "if employee is female, then she will work only in urban areas.\n",
    "\n",
    "if employee is a male and age is in between 20 to 40 then he may work in anywhere\n",
    "\n",
    "if employee is male and age is in between 40 t0 60 then he will work in urban areas only.\n",
    "And any other input of age should print \"ERROR\"\n"
   ]
  },
  {
   "cell_type": "code",
   "execution_count": 35,
   "id": "3868115a",
   "metadata": {},
   "outputs": [
    {
     "name": "stdout",
     "output_type": "stream",
     "text": [
      "Enter your age: 25\n",
      "Enter your gender (M or F): M\n",
      "Enter your marital status (Y or N): Y\n",
      "You may work anywhere.\n"
     ]
    }
   ],
   "source": [
    "age = int(input(\"Enter your age: \"))\n",
    "gender = input(\"Enter your gender (M or F): \").upper()\n",
    "marital_status = input(\"Enter your marital status (Y or N): \").upper()\n",
    "if gender == 'F':\n",
    "    print(\"You will work in urban areas.\")\n",
    "elif gender == 'M' and 20 <= age <= 40:\n",
    "    print(\"You may work anywhere.\")\n",
    "elif gender == 'M' and 40 <= age <= 60:\n",
    "    print(\"You will work in urban areas only.\")\n",
    "else:\n",
    "    print(\"ERROR\")"
   ]
  },
  {
   "cell_type": "code",
   "execution_count": 37,
   "id": "7d8ff8e3",
   "metadata": {},
   "outputs": [
    {
     "name": "stdout",
     "output_type": "stream",
     "text": [
      "Enter your age: 25\n",
      "Enter your gender (M or F): F\n",
      "Enter your marital status (Y or N): N\n",
      "You will work in urban areas.\n"
     ]
    }
   ],
   "source": [
    "age = int(input(\"Enter your age: \"))\n",
    "gender = input(\"Enter your gender (M or F): \").upper()\n",
    "marital_status = input(\"Enter your marital status (Y or N): \").upper()\n",
    "if gender == 'F':\n",
    "    print(\"You will work in urban areas.\")\n",
    "elif gender == 'M' and 20 <= age <= 40:\n",
    "    print(\"You may work anywhere.\")\n",
    "elif gender == 'M' and 40 <= age <= 60:\n",
    "    print(\"You will work in urban areas only.\")\n",
    "else:\n",
    "    print(\"ERROR\")"
   ]
  },
  {
   "cell_type": "code",
   "execution_count": 38,
   "id": "d21d61bd",
   "metadata": {},
   "outputs": [
    {
     "name": "stdout",
     "output_type": "stream",
     "text": [
      "Enter your age: 65\n",
      "Enter your gender (M or F): M\n",
      "Enter your marital status (Y or N): N\n",
      "ERROR\n"
     ]
    }
   ],
   "source": [
    "age = int(input(\"Enter your age: \"))\n",
    "gender = input(\"Enter your gender (M or F): \").upper()\n",
    "marital_status = input(\"Enter your marital status (Y or N): \").upper()\n",
    "if gender == 'F':\n",
    "    print(\"You will work in urban areas.\")\n",
    "elif gender == 'M' and 20 <= age <= 40:\n",
    "    print(\"You may work anywhere.\")\n",
    "elif gender == 'M' and 40 <= age <= 60:\n",
    "    print(\"You will work in urban areas only.\")\n",
    "else:\n",
    "    print(\"ERROR\")"
   ]
  },
  {
   "cell_type": "markdown",
   "id": "33a251b1",
   "metadata": {},
   "source": [
    "####  Write a program to calculate the electricity bill (accept number of unit from user) according to the following criteria : Unit Price uptp 100 units no charge Next 200 units Rs 5 per unit After 200 units Rs 10 per unit (For example if input unit is 350 than total bill amount is Rs.3500 (For example if input unit is 97 than total bill amount is Rs.0 (For example if input unit is 150 than total bill amount is Rs.750\n"
   ]
  },
  {
   "cell_type": "code",
   "execution_count": 39,
   "id": "a5446884",
   "metadata": {},
   "outputs": [
    {
     "name": "stdout",
     "output_type": "stream",
     "text": [
      "Enter the number of units: 1012\n",
      "Total bill amount is Rs.8120\n"
     ]
    }
   ],
   "source": [
    "units = int(input(\"Enter the number of units: \"))\n",
    "if units <= 100:\n",
    "    bill_amount = 0\n",
    "elif units <= 300:\n",
    "    bill_amount = (units - 100) * 5\n",
    "elif units > 300:\n",
    "    bill_amount = 200 * 5 + (units - 300) * 10\n",
    "    print(f\"Total bill amount is Rs.{bill_amount}\")"
   ]
  },
  {
   "cell_type": "markdown",
   "id": "b7555d01",
   "metadata": {},
   "source": [
    "#### Take input of age of 3 people by user and determine oldest and youngest among them"
   ]
  },
  {
   "cell_type": "code",
   "execution_count": 40,
   "id": "2d93b405",
   "metadata": {},
   "outputs": [
    {
     "name": "stdout",
     "output_type": "stream",
     "text": [
      "Enter the age of person 1: 10\n",
      "Enter the age of person 2: 15\n",
      "Enter the age of person 3: 20\n",
      "The oldest person is 20 years old.\n",
      "The youngest person is 10 years old.\n"
     ]
    }
   ],
   "source": [
    "age1 = int(input(\"Enter the age of person 1: \"))\n",
    "age2 = int(input(\"Enter the age of person 2: \"))\n",
    "age3 = int(input(\"Enter the age of person 3: \"))\n",
    "oldest = max(age1, age2, age3)\n",
    "youngest = min(age1, age2, age3)\n",
    "print(f\"The oldest person is {oldest} years old.\")\n",
    "print(f\"The youngest person is {youngest} years old.\")"
   ]
  },
  {
   "cell_type": "code",
   "execution_count": 41,
   "id": "243f6714",
   "metadata": {},
   "outputs": [
    {
     "name": "stdout",
     "output_type": "stream",
     "text": [
      "Enter the age of person 1: 50\n",
      "Enter the age of person 2: 12\n",
      "Enter the age of person 3: 25\n",
      "The oldest person is 50 years old.\n",
      "The youngest person is 12 years old.\n"
     ]
    }
   ],
   "source": [
    "age1 = int(input(\"Enter the age of person 1: \"))\n",
    "age2 = int(input(\"Enter the age of person 2: \"))\n",
    "age3 = int(input(\"Enter the age of person 3: \"))\n",
    "oldest = max(age1, age2, age3)\n",
    "youngest = min(age1, age2, age3)\n",
    "print(f\"The oldest person is {oldest} years old.\")\n",
    "print(f\"The youngest person is {youngest} years old.\")"
   ]
  },
  {
   "cell_type": "code",
   "execution_count": null,
   "id": "3a118d9f",
   "metadata": {},
   "outputs": [],
   "source": []
  }
 ],
 "metadata": {
  "kernelspec": {
   "display_name": "Python 3 (ipykernel)",
   "language": "python",
   "name": "python3"
  },
  "language_info": {
   "codemirror_mode": {
    "name": "ipython",
    "version": 3
   },
   "file_extension": ".py",
   "mimetype": "text/x-python",
   "name": "python",
   "nbconvert_exporter": "python",
   "pygments_lexer": "ipython3",
   "version": "3.11.5"
  }
 },
 "nbformat": 4,
 "nbformat_minor": 5
}
